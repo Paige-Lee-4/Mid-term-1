{
 "cells": [
  {
   "cell_type": "markdown",
   "id": "f23db65d-f7f3-4262-b8c8-bd87a2f52cfa",
   "metadata": {},
   "source": [
    "# Mid-term Project"
   ]
  },
  {
   "cell_type": "code",
   "execution_count": 76,
   "id": "b4331f5d-fd8b-4c58-8a4b-942df676c38a",
   "metadata": {},
   "outputs": [],
   "source": [
    "# Importing necessary libraries\n",
    "import os\n",
    "import pandas as pd\n",
    "import numpy as np\n",
    "from pymongo import MongoClient\n",
    "import json\n",
    "import datetime\n",
    "import mysql.connector\n",
    "from sqlalchemy import create_engine\n",
    "import sqlalchemy\n",
    "import pymongo"
   ]
  },
  {
   "cell_type": "code",
   "execution_count": 78,
   "id": "a61b1fb4-9078-45f5-a267-dab08be7f056",
   "metadata": {},
   "outputs": [
    {
     "name": "stdout",
     "output_type": "stream",
     "text": [
      "Running SQL Alchemy Version: 2.0.30\n",
      "Running PyMongo Version: 4.10.1\n"
     ]
    }
   ],
   "source": [
    "print(f\"Running SQL Alchemy Version: {sqlalchemy.__version__}\")\n",
    "print(f\"Running PyMongo Version: {pymongo.__version__}\")"
   ]
  },
  {
   "cell_type": "code",
   "execution_count": 80,
   "id": "3ddee16d-f032-4520-9baf-c864bead9002",
   "metadata": {},
   "outputs": [],
   "source": [
    "#declare & assign connection variables \n",
    "mysql_args = {\n",
    "    \"uid\" : \"root\",\n",
    "    \"pwd\" : \"unicornTree98*!\",\n",
    "    \"hostname\" : \"localhost\",\n",
    "    \"dbname\" : \"sakila\"\n",
    "}\n",
    "\n",
    "mongodb_args = {\n",
    "    \"user_name\" : \"paigelee\",\n",
    "    \"password\" : \"Password\",\n",
    "    \"cluster_name\" : \"Cluster1\",\n",
    "    \"cluster_subnet\" : \"axtgz\",\n",
    "    \"cluster_location\" : \"atlas\", # \"local\"\n",
    "    \"db_name\" : \"sakila\"\n",
    "}"
   ]
  },
  {
   "cell_type": "code",
   "execution_count": 29,
   "id": "4b3a1c8c-f276-4526-a79e-c8f4a25949ec",
   "metadata": {},
   "outputs": [
    {
     "name": "stdout",
     "output_type": "stream",
     "text": [
      "Data warehouse database created.\n"
     ]
    }
   ],
   "source": [
    "import mysql.connector\n",
    "\n",
    "conn = mysql.connector.connect(\n",
    "    host= host_name,  \n",
    "    user= user_id,  \n",
    "    password= pwd)\n",
    "cursor = conn.cursor()\n",
    "\n",
    "# Create new database\n",
    "cursor.execute(\"CREATE DATABASE IF NOT EXISTS adventureworks_dw\")\n",
    "cursor.execute(\"USE adventureworks_dw\")\n",
    "print(\"Data warehouse database created.\")"
   ]
  },
  {
   "cell_type": "code",
   "execution_count": 53,
   "id": "fe660415-60f7-46ce-b671-425ad81a19f5",
   "metadata": {},
   "outputs": [
    {
     "ename": "InternalError",
     "evalue": "Unread result found",
     "output_type": "error",
     "traceback": [
      "\u001b[0;31m---------------------------------------------------------------------------\u001b[0m",
      "\u001b[0;31mInternalError\u001b[0m                             Traceback (most recent call last)",
      "Cell \u001b[0;32mIn[53], line 1\u001b[0m\n\u001b[0;32m----> 1\u001b[0m cursor\u001b[38;5;241m.\u001b[39mexecute(\u001b[38;5;124m\"\u001b[39m\u001b[38;5;124mUSE adventureworks_dw;\u001b[39m\u001b[38;5;124m\"\u001b[39m)\n\u001b[1;32m      3\u001b[0m \u001b[38;5;66;03m# Call the stored procedure to populate the dim_date table\u001b[39;00m\n\u001b[1;32m      4\u001b[0m cursor\u001b[38;5;241m.\u001b[39mexecute(\u001b[38;5;124m\"\u001b[39m\u001b[38;5;124mCALL PopulateDateDimension(\u001b[39m\u001b[38;5;124m'\u001b[39m\u001b[38;5;124m2000-01-01\u001b[39m\u001b[38;5;124m'\u001b[39m\u001b[38;5;124m, \u001b[39m\u001b[38;5;124m'\u001b[39m\u001b[38;5;124m2010-12-31\u001b[39m\u001b[38;5;124m'\u001b[39m\u001b[38;5;124m);\u001b[39m\u001b[38;5;124m\"\u001b[39m)\n",
      "File \u001b[0;32m/opt/anaconda3/lib/python3.12/site-packages/mysql/connector/cursor_cext.py:331\u001b[0m, in \u001b[0;36mCMySQLCursor.execute\u001b[0;34m(self, operation, params, multi)\u001b[0m\n\u001b[1;32m    329\u001b[0m \u001b[38;5;28;01mexcept\u001b[39;00m (ProgrammingError, \u001b[38;5;167;01mReferenceError\u001b[39;00m) \u001b[38;5;28;01mas\u001b[39;00m err:\n\u001b[1;32m    330\u001b[0m     \u001b[38;5;28;01mraise\u001b[39;00m ProgrammingError(\u001b[38;5;124m\"\u001b[39m\u001b[38;5;124mCursor is not connected\u001b[39m\u001b[38;5;124m\"\u001b[39m, \u001b[38;5;241m2055\u001b[39m) \u001b[38;5;28;01mfrom\u001b[39;00m \u001b[38;5;21;01merr\u001b[39;00m\n\u001b[0;32m--> 331\u001b[0m \u001b[38;5;28mself\u001b[39m\u001b[38;5;241m.\u001b[39m_connection\u001b[38;5;241m.\u001b[39mhandle_unread_result()\n\u001b[1;32m    333\u001b[0m stmt \u001b[38;5;241m=\u001b[39m \u001b[38;5;124mb\u001b[39m\u001b[38;5;124m\"\u001b[39m\u001b[38;5;124m\"\u001b[39m\n\u001b[1;32m    334\u001b[0m \u001b[38;5;28mself\u001b[39m\u001b[38;5;241m.\u001b[39mreset()\n",
      "File \u001b[0;32m/opt/anaconda3/lib/python3.12/site-packages/mysql/connector/connection_cext.py:1047\u001b[0m, in \u001b[0;36mCMySQLConnection.handle_unread_result\u001b[0;34m(self, prepared)\u001b[0m\n\u001b[1;32m   1045\u001b[0m     \u001b[38;5;28mself\u001b[39m\u001b[38;5;241m.\u001b[39mconsume_results()\n\u001b[1;32m   1046\u001b[0m \u001b[38;5;28;01melif\u001b[39;00m unread_result:\n\u001b[0;32m-> 1047\u001b[0m     \u001b[38;5;28;01mraise\u001b[39;00m InternalError(\u001b[38;5;124m\"\u001b[39m\u001b[38;5;124mUnread result found\u001b[39m\u001b[38;5;124m\"\u001b[39m)\n",
      "\u001b[0;31mInternalError\u001b[0m: Unread result found"
     ]
    }
   ],
   "source": [
    "cursor.execute(\"USE adventureworks_dw;\")\n",
    "\n",
    "# Call the stored procedure to populate the dim_date table\n",
    "cursor.execute(\"CALL PopulateDateDimension('2000-01-01', '2010-12-31');\")\n",
    "conn.commit()  # Commit changes to ensure data is inserted\n",
    "\n",
    "print(\"dim_date table populated successfully.\")"
   ]
  },
  {
   "cell_type": "code",
   "execution_count": 55,
   "id": "63c1cdac-591b-435a-99d7-779a420e4dc5",
   "metadata": {},
   "outputs": [
    {
     "ename": "InternalError",
     "evalue": "Unread result found",
     "output_type": "error",
     "traceback": [
      "\u001b[0;31m---------------------------------------------------------------------------\u001b[0m",
      "\u001b[0;31mInternalError\u001b[0m                             Traceback (most recent call last)",
      "Cell \u001b[0;32mIn[55], line 1\u001b[0m\n\u001b[0;32m----> 1\u001b[0m cursor\u001b[38;5;241m.\u001b[39mexecute(\u001b[38;5;124m\"\u001b[39m\u001b[38;5;124mUSE adventureworks;\u001b[39m\u001b[38;5;124m\"\u001b[39m)\n\u001b[1;32m      3\u001b[0m \u001b[38;5;66;03m# Query the customer table\u001b[39;00m\n\u001b[1;32m      4\u001b[0m query \u001b[38;5;241m=\u001b[39m \u001b[38;5;124m\"\u001b[39m\u001b[38;5;124mSELECT * FROM customer;\u001b[39m\u001b[38;5;124m\"\u001b[39m\n",
      "File \u001b[0;32m/opt/anaconda3/lib/python3.12/site-packages/mysql/connector/cursor_cext.py:331\u001b[0m, in \u001b[0;36mCMySQLCursor.execute\u001b[0;34m(self, operation, params, multi)\u001b[0m\n\u001b[1;32m    329\u001b[0m \u001b[38;5;28;01mexcept\u001b[39;00m (ProgrammingError, \u001b[38;5;167;01mReferenceError\u001b[39;00m) \u001b[38;5;28;01mas\u001b[39;00m err:\n\u001b[1;32m    330\u001b[0m     \u001b[38;5;28;01mraise\u001b[39;00m ProgrammingError(\u001b[38;5;124m\"\u001b[39m\u001b[38;5;124mCursor is not connected\u001b[39m\u001b[38;5;124m\"\u001b[39m, \u001b[38;5;241m2055\u001b[39m) \u001b[38;5;28;01mfrom\u001b[39;00m \u001b[38;5;21;01merr\u001b[39;00m\n\u001b[0;32m--> 331\u001b[0m \u001b[38;5;28mself\u001b[39m\u001b[38;5;241m.\u001b[39m_connection\u001b[38;5;241m.\u001b[39mhandle_unread_result()\n\u001b[1;32m    333\u001b[0m stmt \u001b[38;5;241m=\u001b[39m \u001b[38;5;124mb\u001b[39m\u001b[38;5;124m\"\u001b[39m\u001b[38;5;124m\"\u001b[39m\n\u001b[1;32m    334\u001b[0m \u001b[38;5;28mself\u001b[39m\u001b[38;5;241m.\u001b[39mreset()\n",
      "File \u001b[0;32m/opt/anaconda3/lib/python3.12/site-packages/mysql/connector/connection_cext.py:1047\u001b[0m, in \u001b[0;36mCMySQLConnection.handle_unread_result\u001b[0;34m(self, prepared)\u001b[0m\n\u001b[1;32m   1045\u001b[0m     \u001b[38;5;28mself\u001b[39m\u001b[38;5;241m.\u001b[39mconsume_results()\n\u001b[1;32m   1046\u001b[0m \u001b[38;5;28;01melif\u001b[39;00m unread_result:\n\u001b[0;32m-> 1047\u001b[0m     \u001b[38;5;28;01mraise\u001b[39;00m InternalError(\u001b[38;5;124m\"\u001b[39m\u001b[38;5;124mUnread result found\u001b[39m\u001b[38;5;124m\"\u001b[39m)\n",
      "\u001b[0;31mInternalError\u001b[0m: Unread result found"
     ]
    }
   ],
   "source": [
    "cursor.execute(\"USE adventureworks;\")\n",
    "\n",
    "# Query the customer table\n",
    "query = \"SELECT * FROM customer;\"\n",
    "cursor.execute(query)"
   ]
  },
  {
   "cell_type": "code",
   "execution_count": 59,
   "id": "37874296-fdd2-4d58-b138-732b87f9cfb8",
   "metadata": {},
   "outputs": [],
   "source": [
    "def connect_mysql():\n",
    "    return mysql.connector.connect(\n",
    "        host=mysql_credentials[\"host\"],\n",
    "        user=mysql_credentials[\"user\"],\n",
    "        password=mysql_credentials[\"password\"],\n",
    "        database=mysql_credentials[\"database\"]\n",
    "    )\n",
    "\n",
    "def load_to_mysql(df, table_name):\n",
    "    engine = create_engine(f\"mysql+mysqlconnector://{mysql_credentials['user']}:{mysql_credentials['password']}@{mysql_credentials['host']}/{mysql_credentials['database']}\")\n",
    "    df.to_sql(table_name, con=engine, if_exists=\"replace\", index=False)\n",
    "\n",
    "def load_to_mongodb(json_file, db_name, collection_name):\n",
    "    client = MongoClient(\"your_mongodb_connection_string\")  # Update with MongoDB connection string\n",
    "    db = client[db_name]\n",
    "    collection = db[collection_name]\n",
    "    with open(json_file) as file:\n",
    "        data = json.load(file)\n",
    "    collection.insert_many(data)\n",
    "    print(\"Data loaded to MongoDB\")"
   ]
  },
  {
   "cell_type": "code",
   "execution_count": null,
   "id": "16970f73-8f86-48b5-b031-5dc6848bb744",
   "metadata": {},
   "outputs": [],
   "source": [
    "# Load JSON file into MongoDB\n",
    "load_to_mongodb(json_path, \"adventureworks\", \"customer_collection\")  # Replace with your MongoDB database/collection"
   ]
  },
  {
   "cell_type": "code",
   "execution_count": null,
   "id": "94ee1da2-d8a6-4108-8055-bf1e2ddedf08",
   "metadata": {},
   "outputs": [],
   "source": [
    "# Load CSV data into a DataFrame\n",
    "product_df = pd.read_csv(csv_path)\n",
    "\n",
    "# Load the DataFrame to MySQL as a new dimension table\n",
    "load_to_mysql(product_df, \"dim_product\")\n",
    "print(\"Product dimension table created in MySQL\")"
   ]
  },
  {
   "cell_type": "code",
   "execution_count": null,
   "id": "9a9ee341-4815-4161-be67-07eb651149f5",
   "metadata": {},
   "outputs": [],
   "source": [
    "# Connect to MongoDB and read data from a collection\n",
    "client = MongoClient(\"your_mongodb_connection_string\")  # Replace with your MongoDB connection string\n",
    "db = client[\"adventureworks\"]\n",
    "collection = db[\"customer_collection\"]\n",
    "data = list(collection.find())\n",
    "customer_df = pd.DataFrame(data)\n",
    "\n",
    "# Drop MongoDB’s default _id column\n",
    "customer_df = customer_df.drop(columns=[\"_id\"])\n",
    "\n",
    "# Write MongoDB data to MySQL as a dimension table\n",
    "load_to_mysql(customer_df, \"dim_customer\")\n",
    "print(\"Customer data loaded from MongoDB to MySQL as dim_customer.\")"
   ]
  },
  {
   "cell_type": "code",
   "execution_count": null,
   "id": "2480c3af-ff7d-46da-9da3-22e771b4043f",
   "metadata": {},
   "outputs": [],
   "source": [
    "# Read transaction data from MySQL (assuming you have an `orders` table)\n",
    "conn = connect_mysql()\n",
    "transaction_query = \"SELECT * FROM orders\"  # Update with actual transaction table name\n",
    "transaction_df = pd.read_sql(transaction_query, conn)\n",
    "\n",
    "# Lookup operations to replace business codes with surrogate keys\n",
    "transaction_df = transaction_df.merge(customer_df[['customer_id', 'customer_key']], on=\"customer_id\", how=\"left\")\n",
    "transaction_df = transaction_df.merge(product_df[['product_id', 'product_key']], on=\"product_id\", how=\"left\")\n",
    "\n",
    "# Write to MySQL as a fact table\n",
    "load_to_mysql(transaction_df, \"fact_sales\")\n",
    "print(\"Fact table created as fact_sales.\")"
   ]
  },
  {
   "cell_type": "code",
   "execution_count": null,
   "id": "98b3c7a6-b8a3-4fee-8da9-5b95b2e7c826",
   "metadata": {},
   "outputs": [],
   "source": [
    "-- Summarize sales amount by customer\n",
    "SELECT c.customer_name, SUM(f.sales_amount) AS total_sales\n",
    "FROM fact_sales f\n",
    "JOIN dim_customer c ON f.customer_id = c.customer_id\n",
    "GROUP BY c.customer_name;\n",
    "\n",
    "-- Summarize units sold by product\n",
    "SELECT p.product_name, SUM(f.units_sold) AS total_units\n",
    "FROM fact_sales f\n",
    "JOIN dim_product p ON f.product_id = p.product_id\n",
    "GROUP BY p.product_name;\n",
    "\n",
    "-- Group sales by month\n",
    "SELECT d.calendar_year_month, SUM(f.sales_amount) AS total_sales\n",
    "FROM fact_sales f\n",
    "JOIN dim_date d ON f.date_key = d.date_key\n",
    "GROUP BY d.calendar_year_month;"
   ]
  },
  {
   "cell_type": "code",
   "execution_count": null,
   "id": "4ce6314c-5584-4d38-9c75-f28ce40197ea",
   "metadata": {},
   "outputs": [],
   "source": []
  }
 ],
 "metadata": {
  "kernelspec": {
   "display_name": "Python 3 (ipykernel)",
   "language": "python",
   "name": "python3"
  },
  "language_info": {
   "codemirror_mode": {
    "name": "ipython",
    "version": 3
   },
   "file_extension": ".py",
   "mimetype": "text/x-python",
   "name": "python",
   "nbconvert_exporter": "python",
   "pygments_lexer": "ipython3",
   "version": "3.12.4"
  }
 },
 "nbformat": 4,
 "nbformat_minor": 5
}
